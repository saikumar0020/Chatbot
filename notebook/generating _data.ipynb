{
 "cells": [
  {
   "cell_type": "code",
   "execution_count": 1,
   "id": "89190a5c",
   "metadata": {},
   "outputs": [
    {
     "name": "stdout",
     "output_type": "stream",
     "text": [
      "Collecting faker\n",
      "  Downloading faker-37.4.2-py3-none-any.whl.metadata (15 kB)\n",
      "Requirement already satisfied: pandas in c:\\personal storage\\workspace\\projects\\chatbot\\venv\\lib\\site-packages (2.3.1)\n",
      "Requirement already satisfied: tzdata in c:\\personal storage\\workspace\\projects\\chatbot\\venv\\lib\\site-packages (from faker) (2025.2)\n",
      "Requirement already satisfied: numpy>=1.22.4 in c:\\personal storage\\workspace\\projects\\chatbot\\venv\\lib\\site-packages (from pandas) (2.2.6)\n",
      "Requirement already satisfied: python-dateutil>=2.8.2 in c:\\personal storage\\workspace\\projects\\chatbot\\venv\\lib\\site-packages (from pandas) (2.9.0.post0)\n",
      "Requirement already satisfied: pytz>=2020.1 in c:\\personal storage\\workspace\\projects\\chatbot\\venv\\lib\\site-packages (from pandas) (2025.2)\n",
      "Requirement already satisfied: six>=1.5 in c:\\users\\saiku\\appdata\\roaming\\python\\python310\\site-packages (from python-dateutil>=2.8.2->pandas) (1.16.0)\n",
      "Downloading faker-37.4.2-py3-none-any.whl (1.9 MB)\n",
      "   ---------------------------------------- 0.0/1.9 MB ? eta -:--:--\n",
      "   ---------------------------------------- 1.9/1.9 MB 21.6 MB/s eta 0:00:00\n",
      "Installing collected packages: faker\n",
      "Successfully installed faker-37.4.2\n"
     ]
    }
   ],
   "source": [
    "! pip install faker pandas\n"
   ]
  },
  {
   "cell_type": "code",
   "execution_count": null,
   "id": "64aea80d",
   "metadata": {},
   "outputs": [],
   "source": [
    "import pandas as pd\n",
    "import random\n",
    "import faker\n",
    "from datetime import datetime, timedelta\n",
    "\n",
    "# Initialize Faker\n",
    "fake = faker.Faker()\n",
    "\n",
    "# Function to create random invoice records\n",
    "def generate_invoice_data(num_records=500):\n",
    "    records = []\n",
    "    for i in range(1, num_records + 1):\n",
    "        doc_id = f\"DOC_{str(i).zfill(10)}\"\n",
    "        doc_received_date = fake.date_time_between(start_date=\"-90d\", end_date=\"now\").strftime(\"%m/%d/%Y %H:%M\")\n",
    "        invoice_status = random.choice([\"Extracted\", \"Partially Extracted\", \"Failed\"])\n",
    "        invoice_type = random.choice([\"PO Invoice\", \"Non-PO Invoice\"])\n",
    "        invoice_number = str(random.randint(30000, 40000))\n",
    "        invoice_date = fake.date_between(start_date=\"-90d\", end_date=\"today\").strftime(\"%m/%d/%Y\")\n",
    "        po_number = random.choice([f\"{random.randint(755043000, 755043999)}.0\", \"\"])\n",
    "        currency = random.choice([\"USD\", \"INR\", \"MYR\", \"EUR\"])\n",
    "        tax_amount = round(random.uniform(0, 500), 2)\n",
    "        invoice_amount = round(random.uniform(200, 5000), 2)\n",
    "        supplier_name = fake.company().lower()\n",
    "        bill_to = fake.bs().capitalize() + \" department \" + fake.company().lower()\n",
    "        \n",
    "        records.append([\n",
    "            doc_id, doc_received_date, invoice_status, invoice_type,\n",
    "            invoice_number, invoice_date, po_number, currency,\n",
    "            tax_amount, invoice_amount, supplier_name, bill_to\n",
    "        ])\n",
    "    \n",
    "    return pd.DataFrame(records, columns=[\n",
    "        \"Document ID\", \"Document Received Date\", \"Invoice Status\", \"Invoice Type\",\n",
    "        \"Invoice Number\", \"Invoice Date\", \"PO Number\", \"Currency\",\n",
    "        \"Tax Amount\", \"Invoice Amount\", \"Supplier Name\", \"Bill To\"\n",
    "    ])\n",
    "\n",
    "# Generate the data and save to CSV\n",
    "df = generate_invoice_data(500)\n",
    "df.to_csv(\"synthetic_invoice_data.csv\", index=False)\n",
    "print(\"synthetic_invoice_data.csv file created with 500 rows.\")\n"
   ]
  },
  {
   "cell_type": "code",
   "execution_count": null,
   "id": "bc2e6842",
   "metadata": {},
   "outputs": [],
   "source": []
  },
  {
   "cell_type": "code",
   "execution_count": null,
   "id": "ab360515",
   "metadata": {},
   "outputs": [],
   "source": []
  }
 ],
 "metadata": {
  "kernelspec": {
   "display_name": "Python 3",
   "language": "python",
   "name": "python3"
  },
  "language_info": {
   "codemirror_mode": {
    "name": "ipython",
    "version": 3
   },
   "file_extension": ".py",
   "mimetype": "text/x-python",
   "name": "python",
   "nbconvert_exporter": "python",
   "pygments_lexer": "ipython3",
   "version": "3.10.18"
  }
 },
 "nbformat": 4,
 "nbformat_minor": 5
}
